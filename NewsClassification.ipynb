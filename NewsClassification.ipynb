{
 "cells": [
  {
   "cell_type": "markdown",
   "id": "728e65df-6141-4c94-ad01-62ac16c42677",
   "metadata": {},
   "source": [
    "## Data collection"
   ]
  },
  {
   "cell_type": "markdown",
   "id": "b8646ccb-eb15-4304-a852-ce66366e88df",
   "metadata": {},
   "source": [
    "### Extract each type of news"
   ]
  },
  {
   "cell_type": "code",
   "execution_count": 1,
   "id": "7c1b4fd8-1bec-47fd-8131-8330d730a36e",
   "metadata": {},
   "outputs": [],
   "source": [
    "from selenium import webdriver\n",
    "from selenium.webdriver.common.by import By \n",
    "from selenium.webdriver.common.keys import Keys \n",
    "import time"
   ]
  },
  {
   "cell_type": "code",
   "execution_count": 36,
   "id": "ebaadb9a-5fb7-4921-bb4a-fc367aef8751",
   "metadata": {},
   "outputs": [
    {
     "name": "stdout",
     "output_type": "stream",
     "text": [
      "\n",
      " Business \n",
      "\n",
      "\n",
      " Technology \n",
      "\n",
      "\n",
      " Entertainment \n",
      "\n",
      "\n",
      " Sports \n",
      "\n",
      "\n",
      " Science \n",
      "\n",
      "\n",
      " Health \n",
      "\n"
     ]
    }
   ],
   "source": [
    "driver = webdriver.Chrome()\n",
    "driver.get(\"https://news.google.com/home?hl=en-IN&gl=IN&ceid=IN:en\")\n",
    "buttons =  driver.find_elements(By.CLASS_NAME,\"EctEBd\")\n",
    "\n",
    "heading = \"\"\n",
    "data = []\n",
    "\n",
    "for button in buttons:\n",
    "    data_n_ini = button.get_attribute(\"data-n-ini\")\n",
    "        \n",
    "    try:\n",
    "        \n",
    "        if data_n_ini.isdigit() and  8 <= int(data_n_ini) and 13 >= int(data_n_ini) : \n",
    "            a = button.find_element(By.TAG_NAME, 'a')\n",
    "            a.click()\n",
    "            print(\"\\n\",a.text)\n",
    "            heading = a.text\n",
    "            time.sleep(5)\n",
    "            #\n",
    "            labels = driver.find_elements(By.CLASS_NAME,\"gPFEn\")\n",
    "            \n",
    "            for lab in labels:\n",
    "                if lab.text != \"\":\n",
    "                    # print(lab.text,\"\\n\")\n",
    "                    data.append({'label':heading,'content':lab.text})\n",
    "            \n",
    "    \n",
    "    except ValueError:\n",
    "        continue\n",
    "driver.quit()"
   ]
  },
  {
   "cell_type": "code",
   "execution_count": 38,
   "id": "11248ae5-891c-4709-a7d5-83a8ee69deb1",
   "metadata": {},
   "outputs": [
    {
     "data": {
      "text/plain": [
       "{'label': 'Business',\n",
       " 'content': 'Union Budget 2025: Electric vehicles to become affordable'}"
      ]
     },
     "execution_count": 38,
     "metadata": {},
     "output_type": "execute_result"
    }
   ],
   "source": [
    "data[0]"
   ]
  },
  {
   "cell_type": "markdown",
   "id": "5b29001d-f4c1-4663-81e8-1ab174cd2920",
   "metadata": {},
   "source": [
    "### Write data into csv"
   ]
  },
  {
   "cell_type": "code",
   "execution_count": 39,
   "id": "f47653e6-45be-42a7-854c-a6dd08d78cd3",
   "metadata": {},
   "outputs": [],
   "source": [
    "import csv"
   ]
  },
  {
   "cell_type": "code",
   "execution_count": 40,
   "id": "897e4578-ee08-44a3-9730-c6fc5542aa42",
   "metadata": {},
   "outputs": [
    {
     "name": "stdout",
     "output_type": "stream",
     "text": [
      "done\n"
     ]
    }
   ],
   "source": [
    "csv_file = \"newsdataset.csv\"\n",
    "\n",
    "with open(csv_file, mode = \"w\" , newline=\"\", encoding = \"utf-8\") as file:\n",
    "    filenames = ['label','content']\n",
    "\n",
    "    writer = csv.DictWriter(file,fieldnames = filenames)\n",
    "\n",
    "    writer.writeheader()\n",
    "\n",
    "    writer.writerows(data)\n",
    "\n",
    "\n",
    "print(\"done\")"
   ]
  },
  {
   "cell_type": "markdown",
   "id": "f9c1f89c-0731-4a6d-b968-504670ce2558",
   "metadata": {},
   "source": [
    "## Training"
   ]
  },
  {
   "cell_type": "code",
   "execution_count": 1,
   "id": "66a783de-efe3-42d4-8bad-092d948f7e3b",
   "metadata": {},
   "outputs": [],
   "source": [
    "import pandas as pd\n",
    "from sklearn.model_selection import train_test_split\n",
    "import tensorflow as tf\n",
    "from tensorflow import keras\n",
    "from tensorflow.keras.preprocessing.text import Tokenizer\n",
    "from tensorflow.keras.preprocessing.sequence import pad_sequences"
   ]
  },
  {
   "cell_type": "code",
   "execution_count": 2,
   "id": "8066e5da-7b63-4fcc-8caf-4d9f1861e533",
   "metadata": {},
   "outputs": [],
   "source": [
    "import pandas as pd\n",
    "from sklearn.model_selection import train_test_split\n",
    "from sklearn.preprocessing import LabelEncoder\n",
    "from sklearn.feature_extraction.text import TfidfVectorizer\n",
    "from sklearn.naive_bayes import MultinomialNB\n",
    "from sklearn.metrics import classification_report, accuracy_score\n"
   ]
  },
  {
   "cell_type": "code",
   "execution_count": 3,
   "id": "16e04346-c59b-4361-ae2a-4cfc7ae8a605",
   "metadata": {},
   "outputs": [
    {
     "data": {
      "text/html": [
       "<div>\n",
       "<style scoped>\n",
       "    .dataframe tbody tr th:only-of-type {\n",
       "        vertical-align: middle;\n",
       "    }\n",
       "\n",
       "    .dataframe tbody tr th {\n",
       "        vertical-align: top;\n",
       "    }\n",
       "\n",
       "    .dataframe thead th {\n",
       "        text-align: right;\n",
       "    }\n",
       "</style>\n",
       "<table border=\"1\" class=\"dataframe\">\n",
       "  <thead>\n",
       "    <tr style=\"text-align: right;\">\n",
       "      <th></th>\n",
       "      <th>label</th>\n",
       "      <th>content</th>\n",
       "      <th>label_encoded</th>\n",
       "    </tr>\n",
       "  </thead>\n",
       "  <tbody>\n",
       "    <tr>\n",
       "      <th>0</th>\n",
       "      <td>Business</td>\n",
       "      <td>Maruti Suzuki's vehicle dispatches from factor...</td>\n",
       "      <td>0</td>\n",
       "    </tr>\n",
       "    <tr>\n",
       "      <th>1</th>\n",
       "      <td>Business</td>\n",
       "      <td>Non-tax revenue from telecom pegged 33 pc lowe...</td>\n",
       "      <td>0</td>\n",
       "    </tr>\n",
       "    <tr>\n",
       "      <th>2</th>\n",
       "      <td>Health</td>\n",
       "      <td>AI model predicts dengue outbreaks two months ...</td>\n",
       "      <td>2</td>\n",
       "    </tr>\n",
       "    <tr>\n",
       "      <th>3</th>\n",
       "      <td>Health</td>\n",
       "      <td>Handful of California Almonds a Day: Natural A...</td>\n",
       "      <td>2</td>\n",
       "    </tr>\n",
       "    <tr>\n",
       "      <th>4</th>\n",
       "      <td>Entertainment</td>\n",
       "      <td>Sankranthiki Vasthunnam team plans a grand fin...</td>\n",
       "      <td>1</td>\n",
       "    </tr>\n",
       "  </tbody>\n",
       "</table>\n",
       "</div>"
      ],
      "text/plain": [
       "           label                                            content  \\\n",
       "0       Business  Maruti Suzuki's vehicle dispatches from factor...   \n",
       "1       Business  Non-tax revenue from telecom pegged 33 pc lowe...   \n",
       "2         Health  AI model predicts dengue outbreaks two months ...   \n",
       "3         Health  Handful of California Almonds a Day: Natural A...   \n",
       "4  Entertainment  Sankranthiki Vasthunnam team plans a grand fin...   \n",
       "\n",
       "   label_encoded  \n",
       "0              0  \n",
       "1              0  \n",
       "2              2  \n",
       "3              2  \n",
       "4              1  "
      ]
     },
     "execution_count": 3,
     "metadata": {},
     "output_type": "execute_result"
    }
   ],
   "source": [
    "df = pd.read_csv('newsdataset.csv')\n",
    "df = df.sample(frac=1, random_state=42).reset_index(drop=True)\n",
    "label_encoder = LabelEncoder()\n",
    "df['label_encoded'] = label_encoder.fit_transform(df['label'])\n",
    "df.head(5)"
   ]
  },
  {
   "cell_type": "code",
   "execution_count": 4,
   "id": "e1dbe4e4-1e8e-4f71-8a60-089edf2c2ac0",
   "metadata": {},
   "outputs": [],
   "source": [
    "train_data, test_data = train_test_split(df, test_size=0.2, random_state=42)"
   ]
  },
  {
   "cell_type": "code",
   "execution_count": 5,
   "id": "9c6e3272-93d7-4683-9410-c5ba26e23865",
   "metadata": {},
   "outputs": [],
   "source": [
    "tokenizer = Tokenizer(num_words = 100,oov_token=\"<OOV>\")"
   ]
  },
  {
   "cell_type": "code",
   "execution_count": 6,
   "id": "79ac1894-3753-40fc-845e-bb6a69df7283",
   "metadata": {},
   "outputs": [
    {
     "name": "stdout",
     "output_type": "stream",
     "text": [
      "Training set size: (895,)\n",
      "Test set size: (224,)\n"
     ]
    }
   ],
   "source": [
    "X_train, X_test, y_train, y_test = train_test_split(df['content'], df['label_encoded'], test_size=0.2, random_state=42)\n",
    "print(f\"Training set size: {X_train.shape}\")\n",
    "print(f\"Test set size: {X_test.shape}\")"
   ]
  },
  {
   "cell_type": "code",
   "execution_count": 7,
   "id": "40cc6006-7fb5-4cb4-8685-4ad4051299af",
   "metadata": {},
   "outputs": [],
   "source": [
    "tfidf_vectorizer = TfidfVectorizer(stop_words='english', max_features=5000)"
   ]
  },
  {
   "cell_type": "code",
   "execution_count": 8,
   "id": "86bc58eb-28f4-4162-b91e-09d8b0147318",
   "metadata": {},
   "outputs": [],
   "source": [
    "X_train_tfidf = tfidf_vectorizer.fit_transform(X_train)\n",
    "X_test_tfidf = tfidf_vectorizer.transform(X_test)"
   ]
  },
  {
   "cell_type": "code",
   "execution_count": 9,
   "id": "3cd8a878-0727-4f80-8242-ea4b27767141",
   "metadata": {},
   "outputs": [
    {
     "name": "stdout",
     "output_type": "stream",
     "text": [
      "Training data shape: (895, 3469)\n",
      "Test data shape: (224, 3469)\n"
     ]
    }
   ],
   "source": [
    "print(f\"Training data shape: {X_train_tfidf.shape}\")\n",
    "print(f\"Test data shape: {X_test_tfidf.shape}\")"
   ]
  },
  {
   "cell_type": "code",
   "execution_count": 10,
   "id": "1e231118-ef9e-4b2a-bb78-90cfe5a1393a",
   "metadata": {
    "scrolled": true
   },
   "outputs": [
    {
     "name": "stdout",
     "output_type": "stream",
     "text": [
      "Accuracy: 0.8883928571428571\n",
      "Classification Report:\n",
      "                precision    recall  f1-score   support\n",
      "\n",
      "     Business       0.85      0.95      0.90        63\n",
      "Entertainment       0.93      0.93      0.93        40\n",
      "       Health       0.88      0.93      0.90        30\n",
      "      Science       1.00      0.32      0.48        19\n",
      "       Sports       0.90      0.97      0.94        38\n",
      "   Technology       0.91      0.91      0.91        34\n",
      "\n",
      "     accuracy                           0.89       224\n",
      "    macro avg       0.91      0.84      0.84       224\n",
      " weighted avg       0.90      0.89      0.88       224\n",
      "\n"
     ]
    }
   ],
   "source": [
    "nb_classifier = MultinomialNB()\n",
    "nb_classifier.fit(X_train_tfidf, y_train)\n",
    "y_pred = nb_classifier.predict(X_test_tfidf)\n",
    "print(\"Accuracy:\", accuracy_score(y_test, y_pred))\n",
    "print(\"Classification Report:\\n\", classification_report(y_test, y_pred, target_names=label_encoder.classes_))"
   ]
  },
  {
   "cell_type": "markdown",
   "id": "b6a34303-66d1-4719-83ff-a35fc7c27100",
   "metadata": {},
   "source": [
    "#### Predict a sample headline"
   ]
  },
  {
   "cell_type": "code",
   "execution_count": 14,
   "id": "ed2e7959-daf6-454a-85dd-a3dfe04a9274",
   "metadata": {},
   "outputs": [
    {
     "name": "stdout",
     "output_type": "stream",
     "text": [
      "The predicted category for the headline ' AI product' is: Technology\n"
     ]
    }
   ],
   "source": [
    "new_headline = \" AI product\"\n",
    "new_headline_tfidf = tfidf_vectorizer.transform([new_headline])\n",
    "predicted_label_encoded = nb_classifier.predict(new_headline_tfidf)\n",
    "predicted_label = label_encoder.inverse_transform(predicted_label_encoded)\n",
    "print(f\"The predicted category for the headline '{new_headline}' is: {predicted_label[0]}\")"
   ]
  },
  {
   "cell_type": "code",
   "execution_count": null,
   "id": "0d2743c9-cb32-4d31-9ecf-6972e4c55155",
   "metadata": {},
   "outputs": [],
   "source": []
  }
 ],
 "metadata": {
  "kernelspec": {
   "display_name": "Python 3",
   "language": "python",
   "name": "python3"
  },
  "language_info": {
   "codemirror_mode": {
    "name": "ipython",
    "version": 3
   },
   "file_extension": ".py",
   "mimetype": "text/x-python",
   "name": "python",
   "nbconvert_exporter": "python",
   "pygments_lexer": "ipython3",
   "version": "3.12.4"
  }
 },
 "nbformat": 4,
 "nbformat_minor": 5
}
