{
 "cells": [
  {
   "cell_type": "code",
   "execution_count": 1,
   "id": "7afe4691-f039-4119-b84d-5855ba5d76d0",
   "metadata": {},
   "outputs": [],
   "source": [
    "import tensorflow as tf\n",
    "from tensorflow.keras.preprocessing.text import Tokenizer\n",
    "from tensorflow.keras.preprocessing.sequence import pad_sequences\n",
    "import requests\n",
    "import csv\n",
    "# from selenium import webdriver\n",
    "# from selenium.webdriver.common.by import By "
   ]
  },
  {
   "cell_type": "markdown",
   "id": "02158f3e-4f97-45ee-9355-dfc2630a496d",
   "metadata": {},
   "source": [
    "### Data extraction "
   ]
  },
  {
   "cell_type": "code",
   "execution_count": 2,
   "id": "458716cf-ae3e-45db-8ae0-5e334d85cf83",
   "metadata": {},
   "outputs": [],
   "source": [
    "url = 'https://storage.googleapis.com/learning-datasets/sarcasm.json'\n",
    "response = requests.get(url)\n",
    "\n",
    "if response.status_code == 200:\n",
    "    data = response.json()\n",
    "    # print(data)\n",
    "else:\n",
    "      print(f\"Failed to retrieve file: {response.status_code}\")"
   ]
  },
  {
   "cell_type": "code",
   "execution_count": 3,
   "id": "a895b599-3f35-4884-9d5b-b3d94702a536",
   "metadata": {},
   "outputs": [
    {
     "data": {
      "text/plain": [
       "{'article_link': 'https://www.huffingtonpost.com/entry/versace-black-code_us_5861fbefe4b0de3a08f600d5',\n",
       " 'headline': \"former versace store clerk sues over secret 'black code' for minority shoppers\",\n",
       " 'is_sarcastic': 0}"
      ]
     },
     "execution_count": 3,
     "metadata": {},
     "output_type": "execute_result"
    }
   ],
   "source": [
    "data[0]"
   ]
  },
  {
   "cell_type": "code",
   "execution_count": 4,
   "id": "b7bf28f6-bdad-41cd-aa1c-f5698f331baf",
   "metadata": {},
   "outputs": [],
   "source": [
    "newsdata = []\n",
    "sent = []\n",
    "label = []\n",
    "for item in data:\n",
    "    newsdata.append({'headline':item['headline'],'label':item['is_sarcastic']})\n",
    "    sent.append(item['headline'])\n",
    "    label.append(item['is_sarcastic'])\n",
    "\n",
    "\n",
    "with open(\"data.csv\", mode = \"w\" , newline=\"\", encoding = \"utf-8\") as file:\n",
    "    filenames = ['headline','label']\n",
    "    \n",
    "    writer = csv.DictWriter(file,fieldnames = filenames)\n",
    "    writer.writeheader()\n",
    "\n",
    "    writer.writerows(newsdata)"
   ]
  },
  {
   "cell_type": "code",
   "execution_count": 5,
   "id": "d4a371a7-2d3d-4657-8264-4083013464e8",
   "metadata": {},
   "outputs": [
    {
     "name": "stdout",
     "output_type": "stream",
     "text": [
      "[  308 15115   679  3337  2298    48   382  2576 15116     6  2577  8434\n",
      "     0     0     0     0     0     0     0     0     0     0     0     0\n",
      "     0     0     0     0     0     0     0     0     0     0     0     0\n",
      "     0     0     0     0]\n",
      "(26709, 40)\n"
     ]
    }
   ],
   "source": [
    "tokenizer = Tokenizer(oov_token=\"<00V>\")\n",
    "tokenizer.fit_on_texts(sent)\n",
    "word_index = tokenizer.word_index\n",
    "\n",
    "sequences = tokenizer.texts_to_sequences(sent)\n",
    "padded = pad_sequences(sequences,padding='post')\n",
    "\n",
    "print(padded[0])\n",
    "print(padded.shape)"
   ]
  },
  {
   "cell_type": "markdown",
   "id": "003eb6de-e551-48e3-893b-10df235e5724",
   "metadata": {},
   "source": [
    "#### Divide data for training and testing Data"
   ]
  },
  {
   "cell_type": "code",
   "execution_count": 6,
   "id": "c23f7ace-437d-44da-a0b3-193bb7c9d970",
   "metadata": {},
   "outputs": [],
   "source": [
    "\n",
    "training_size = 26709*8//100\n",
    "\n",
    "training_sent = sent[0:training_size]\n",
    "testing_sent = sent[training_size:]\n",
    "training_label = label[0:training_size]\n",
    "testing_label = label[training_size:]\n",
    "\n"
   ]
  },
  {
   "cell_type": "code",
   "execution_count": 7,
   "id": "1582247b-137b-4b4d-b9c3-06324ce44d90",
   "metadata": {},
   "outputs": [],
   "source": [
    "tokenizer = Tokenizer(oov_token=\"<00V>\")\n",
    "tokenizer.fit_on_texts(training_sent)\n",
    "word_index = tokenizer.word_index\n",
    "\n",
    "train_sequences = tokenizer.texts_to_sequences(training_sent)\n",
    "train_padded = pad_sequences(train_sequences,padding='post')\n",
    "\n",
    "test_sequences = tokenizer.texts_to_sequences(testing_sent)\n",
    "test_padded = pad_sequences(test_sequences,padding='post')"
   ]
  },
  {
   "cell_type": "code",
   "execution_count": 8,
   "id": "4f9d2ffe-07ae-4c93-bcf5-599c117e3536",
   "metadata": {},
   "outputs": [],
   "source": [
    "vocab_size = 10000\n",
    "embedding_dim = 16\n",
    "max_length = 100\n",
    "trunc_type='post'\n",
    "padding_type='post'\n",
    "oov_tok = \"<OOV>\"\n",
    "training_size = 20000"
   ]
  },
  {
   "cell_type": "code",
   "execution_count": 9,
   "id": "71630f58-8be7-4892-b3f0-04980dfdd184",
   "metadata": {},
   "outputs": [],
   "source": [
    "model = tf.keras.Sequential([\n",
    "    tf.keras.layers.Embedding(vocab_size, embedding_dim),\n",
    "    tf.keras.layers.GlobalAveragePooling1D(),\n",
    "    tf.keras.layers.Dense(24, activation='relu'),\n",
    "    tf.keras.layers.Dense(1, activation='sigmoid')\n",
    "])\n",
    "model.compile(loss='binary_crossentropy',optimizer='adam',metrics=['accuracy'])"
   ]
  },
  {
   "cell_type": "code",
   "execution_count": 10,
   "id": "8081d397-e9a2-4267-a18c-cb2a8889c727",
   "metadata": {},
   "outputs": [
    {
     "data": {
      "text/html": [
       "<pre style=\"white-space:pre;overflow-x:auto;line-height:normal;font-family:Menlo,'DejaVu Sans Mono',consolas,'Courier New',monospace\"><span style=\"font-weight: bold\">Model: \"sequential\"</span>\n",
       "</pre>\n"
      ],
      "text/plain": [
       "\u001b[1mModel: \"sequential\"\u001b[0m\n"
      ]
     },
     "metadata": {},
     "output_type": "display_data"
    },
    {
     "data": {
      "text/html": [
       "<pre style=\"white-space:pre;overflow-x:auto;line-height:normal;font-family:Menlo,'DejaVu Sans Mono',consolas,'Courier New',monospace\">┏━━━━━━━━━━━━━━━━━━━━━━━━━━━━━━━━━━━━━━┳━━━━━━━━━━━━━━━━━━━━━━━━━━━━━┳━━━━━━━━━━━━━━━━━┓\n",
       "┃<span style=\"font-weight: bold\"> Layer (type)                         </span>┃<span style=\"font-weight: bold\"> Output Shape                </span>┃<span style=\"font-weight: bold\">         Param # </span>┃\n",
       "┡━━━━━━━━━━━━━━━━━━━━━━━━━━━━━━━━━━━━━━╇━━━━━━━━━━━━━━━━━━━━━━━━━━━━━╇━━━━━━━━━━━━━━━━━┩\n",
       "│ embedding (<span style=\"color: #0087ff; text-decoration-color: #0087ff\">Embedding</span>)                │ ?                           │     <span style=\"color: #00af00; text-decoration-color: #00af00\">0</span> (unbuilt) │\n",
       "├──────────────────────────────────────┼─────────────────────────────┼─────────────────┤\n",
       "│ global_average_pooling1d             │ ?                           │     <span style=\"color: #00af00; text-decoration-color: #00af00\">0</span> (unbuilt) │\n",
       "│ (<span style=\"color: #0087ff; text-decoration-color: #0087ff\">GlobalAveragePooling1D</span>)             │                             │                 │\n",
       "├──────────────────────────────────────┼─────────────────────────────┼─────────────────┤\n",
       "│ dense (<span style=\"color: #0087ff; text-decoration-color: #0087ff\">Dense</span>)                        │ ?                           │     <span style=\"color: #00af00; text-decoration-color: #00af00\">0</span> (unbuilt) │\n",
       "├──────────────────────────────────────┼─────────────────────────────┼─────────────────┤\n",
       "│ dense_1 (<span style=\"color: #0087ff; text-decoration-color: #0087ff\">Dense</span>)                      │ ?                           │     <span style=\"color: #00af00; text-decoration-color: #00af00\">0</span> (unbuilt) │\n",
       "└──────────────────────────────────────┴─────────────────────────────┴─────────────────┘\n",
       "</pre>\n"
      ],
      "text/plain": [
       "┏━━━━━━━━━━━━━━━━━━━━━━━━━━━━━━━━━━━━━━┳━━━━━━━━━━━━━━━━━━━━━━━━━━━━━┳━━━━━━━━━━━━━━━━━┓\n",
       "┃\u001b[1m \u001b[0m\u001b[1mLayer (type)                        \u001b[0m\u001b[1m \u001b[0m┃\u001b[1m \u001b[0m\u001b[1mOutput Shape               \u001b[0m\u001b[1m \u001b[0m┃\u001b[1m \u001b[0m\u001b[1m        Param #\u001b[0m\u001b[1m \u001b[0m┃\n",
       "┡━━━━━━━━━━━━━━━━━━━━━━━━━━━━━━━━━━━━━━╇━━━━━━━━━━━━━━━━━━━━━━━━━━━━━╇━━━━━━━━━━━━━━━━━┩\n",
       "│ embedding (\u001b[38;5;33mEmbedding\u001b[0m)                │ ?                           │     \u001b[38;5;34m0\u001b[0m (unbuilt) │\n",
       "├──────────────────────────────────────┼─────────────────────────────┼─────────────────┤\n",
       "│ global_average_pooling1d             │ ?                           │     \u001b[38;5;34m0\u001b[0m (unbuilt) │\n",
       "│ (\u001b[38;5;33mGlobalAveragePooling1D\u001b[0m)             │                             │                 │\n",
       "├──────────────────────────────────────┼─────────────────────────────┼─────────────────┤\n",
       "│ dense (\u001b[38;5;33mDense\u001b[0m)                        │ ?                           │     \u001b[38;5;34m0\u001b[0m (unbuilt) │\n",
       "├──────────────────────────────────────┼─────────────────────────────┼─────────────────┤\n",
       "│ dense_1 (\u001b[38;5;33mDense\u001b[0m)                      │ ?                           │     \u001b[38;5;34m0\u001b[0m (unbuilt) │\n",
       "└──────────────────────────────────────┴─────────────────────────────┴─────────────────┘\n"
      ]
     },
     "metadata": {},
     "output_type": "display_data"
    },
    {
     "data": {
      "text/html": [
       "<pre style=\"white-space:pre;overflow-x:auto;line-height:normal;font-family:Menlo,'DejaVu Sans Mono',consolas,'Courier New',monospace\"><span style=\"font-weight: bold\"> Total params: </span><span style=\"color: #00af00; text-decoration-color: #00af00\">0</span> (0.00 B)\n",
       "</pre>\n"
      ],
      "text/plain": [
       "\u001b[1m Total params: \u001b[0m\u001b[38;5;34m0\u001b[0m (0.00 B)\n"
      ]
     },
     "metadata": {},
     "output_type": "display_data"
    },
    {
     "data": {
      "text/html": [
       "<pre style=\"white-space:pre;overflow-x:auto;line-height:normal;font-family:Menlo,'DejaVu Sans Mono',consolas,'Courier New',monospace\"><span style=\"font-weight: bold\"> Trainable params: </span><span style=\"color: #00af00; text-decoration-color: #00af00\">0</span> (0.00 B)\n",
       "</pre>\n"
      ],
      "text/plain": [
       "\u001b[1m Trainable params: \u001b[0m\u001b[38;5;34m0\u001b[0m (0.00 B)\n"
      ]
     },
     "metadata": {},
     "output_type": "display_data"
    },
    {
     "data": {
      "text/html": [
       "<pre style=\"white-space:pre;overflow-x:auto;line-height:normal;font-family:Menlo,'DejaVu Sans Mono',consolas,'Courier New',monospace\"><span style=\"font-weight: bold\"> Non-trainable params: </span><span style=\"color: #00af00; text-decoration-color: #00af00\">0</span> (0.00 B)\n",
       "</pre>\n"
      ],
      "text/plain": [
       "\u001b[1m Non-trainable params: \u001b[0m\u001b[38;5;34m0\u001b[0m (0.00 B)\n"
      ]
     },
     "metadata": {},
     "output_type": "display_data"
    }
   ],
   "source": [
    "model.summary()"
   ]
  },
  {
   "cell_type": "code",
   "execution_count": 12,
   "id": "5cc9ad33-b640-476d-abe2-e4e9cebdcd00",
   "metadata": {},
   "outputs": [],
   "source": [
    "import numpy as np\n",
    "\n",
    "training_label = np.array(training_label)\n",
    "testing_label = np.array(testing_label)\n"
   ]
  },
  {
   "cell_type": "code",
   "execution_count": 13,
   "id": "04ce08fc-6b38-4ed1-a7bf-0c410336447a",
   "metadata": {},
   "outputs": [
    {
     "name": "stdout",
     "output_type": "stream",
     "text": [
      "Epoch 1/30\n",
      "67/67 - 5s - 77ms/step - accuracy: 0.5562 - loss: 0.6855 - val_accuracy: 0.5608 - val_loss: 0.6836\n",
      "Epoch 2/30\n",
      "67/67 - 2s - 25ms/step - accuracy: 0.5641 - loss: 0.6722 - val_accuracy: 0.5608 - val_loss: 0.6783\n",
      "Epoch 3/30\n",
      "67/67 - 2s - 24ms/step - accuracy: 0.6081 - loss: 0.6379 - val_accuracy: 0.5633 - val_loss: 0.6521\n",
      "Epoch 4/30\n",
      "67/67 - 2s - 24ms/step - accuracy: 0.7898 - loss: 0.5559 - val_accuracy: 0.7930 - val_loss: 0.6051\n",
      "Epoch 5/30\n",
      "67/67 - 2s - 24ms/step - accuracy: 0.9110 - loss: 0.4310 - val_accuracy: 0.7094 - val_loss: 0.5521\n",
      "Epoch 6/30\n",
      "67/67 - 3s - 44ms/step - accuracy: 0.9382 - loss: 0.3171 - val_accuracy: 0.7997 - val_loss: 0.5032\n",
      "Epoch 7/30\n",
      "67/67 - 2s - 26ms/step - accuracy: 0.9569 - loss: 0.2298 - val_accuracy: 0.8021 - val_loss: 0.4750\n",
      "Epoch 8/30\n",
      "67/67 - 2s - 26ms/step - accuracy: 0.9743 - loss: 0.1680 - val_accuracy: 0.7957 - val_loss: 0.4595\n",
      "Epoch 9/30\n",
      "67/67 - 2s - 26ms/step - accuracy: 0.9822 - loss: 0.1251 - val_accuracy: 0.7956 - val_loss: 0.4541\n",
      "Epoch 10/30\n",
      "67/67 - 2s - 25ms/step - accuracy: 0.9883 - loss: 0.0962 - val_accuracy: 0.7846 - val_loss: 0.4506\n",
      "Epoch 11/30\n",
      "67/67 - 2s - 26ms/step - accuracy: 0.9897 - loss: 0.0749 - val_accuracy: 0.7574 - val_loss: 0.4771\n",
      "Epoch 12/30\n",
      "67/67 - 2s - 26ms/step - accuracy: 0.9911 - loss: 0.0604 - val_accuracy: 0.7912 - val_loss: 0.4458\n",
      "Epoch 13/30\n",
      "67/67 - 2s - 26ms/step - accuracy: 0.9953 - loss: 0.0447 - val_accuracy: 0.7825 - val_loss: 0.4487\n",
      "Epoch 14/30\n",
      "67/67 - 2s - 25ms/step - accuracy: 0.9953 - loss: 0.0368 - val_accuracy: 0.7940 - val_loss: 0.4420\n",
      "Epoch 15/30\n",
      "67/67 - 2s - 25ms/step - accuracy: 0.9981 - loss: 0.0299 - val_accuracy: 0.7962 - val_loss: 0.4381\n",
      "Epoch 16/30\n",
      "67/67 - 2s - 24ms/step - accuracy: 0.9972 - loss: 0.0245 - val_accuracy: 0.7905 - val_loss: 0.4434\n",
      "Epoch 17/30\n",
      "67/67 - 2s - 24ms/step - accuracy: 0.9981 - loss: 0.0197 - val_accuracy: 0.7897 - val_loss: 0.4453\n",
      "Epoch 18/30\n",
      "67/67 - 2s - 25ms/step - accuracy: 0.9986 - loss: 0.0172 - val_accuracy: 0.7942 - val_loss: 0.4438\n",
      "Epoch 19/30\n",
      "67/67 - 2s - 24ms/step - accuracy: 0.9991 - loss: 0.0142 - val_accuracy: 0.7780 - val_loss: 0.4671\n",
      "Epoch 20/30\n",
      "67/67 - 2s - 25ms/step - accuracy: 0.9991 - loss: 0.0122 - val_accuracy: 0.7911 - val_loss: 0.4490\n",
      "Epoch 21/30\n",
      "67/67 - 2s - 25ms/step - accuracy: 0.9995 - loss: 0.0107 - val_accuracy: 0.7911 - val_loss: 0.4508\n",
      "Epoch 22/30\n",
      "67/67 - 2s - 25ms/step - accuracy: 0.9991 - loss: 0.0096 - val_accuracy: 0.7839 - val_loss: 0.4628\n",
      "Epoch 23/30\n",
      "67/67 - 2s - 25ms/step - accuracy: 1.0000 - loss: 0.0084 - val_accuracy: 0.7842 - val_loss: 0.4641\n",
      "Epoch 24/30\n",
      "67/67 - 2s - 25ms/step - accuracy: 0.9995 - loss: 0.0072 - val_accuracy: 0.7860 - val_loss: 0.4630\n",
      "Epoch 25/30\n",
      "67/67 - 2s - 27ms/step - accuracy: 1.0000 - loss: 0.0064 - val_accuracy: 0.7844 - val_loss: 0.4691\n",
      "Epoch 26/30\n",
      "67/67 - 2s - 25ms/step - accuracy: 1.0000 - loss: 0.0054 - val_accuracy: 0.7912 - val_loss: 0.4629\n",
      "Epoch 27/30\n",
      "67/67 - 2s - 31ms/step - accuracy: 1.0000 - loss: 0.0048 - val_accuracy: 0.7854 - val_loss: 0.4688\n",
      "Epoch 28/30\n",
      "67/67 - 2s - 26ms/step - accuracy: 1.0000 - loss: 0.0043 - val_accuracy: 0.7826 - val_loss: 0.4788\n",
      "Epoch 29/30\n",
      "67/67 - 2s - 25ms/step - accuracy: 1.0000 - loss: 0.0040 - val_accuracy: 0.7752 - val_loss: 0.4998\n",
      "Epoch 30/30\n",
      "67/67 - 2s - 25ms/step - accuracy: 1.0000 - loss: 0.0036 - val_accuracy: 0.7811 - val_loss: 0.4868\n"
     ]
    }
   ],
   "source": [
    "num_epochs = 30\n",
    "history = model.fit(train_padded, training_label, epochs=num_epochs, validation_data=(test_padded, testing_label), verbose=2)\n"
   ]
  },
  {
   "cell_type": "code",
   "execution_count": null,
   "id": "bd215c1c-8160-48ee-9603-27010c45fea4",
   "metadata": {},
   "outputs": [],
   "source": []
  }
 ],
 "metadata": {
  "kernelspec": {
   "display_name": "Python 3",
   "language": "python",
   "name": "python3"
  },
  "language_info": {
   "codemirror_mode": {
    "name": "ipython",
    "version": 3
   },
   "file_extension": ".py",
   "mimetype": "text/x-python",
   "name": "python",
   "nbconvert_exporter": "python",
   "pygments_lexer": "ipython3",
   "version": "3.12.4"
  }
 },
 "nbformat": 4,
 "nbformat_minor": 5
}
