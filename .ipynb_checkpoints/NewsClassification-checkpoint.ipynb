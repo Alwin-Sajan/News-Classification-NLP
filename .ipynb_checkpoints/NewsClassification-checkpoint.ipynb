{
 "cells": [
  {
   "cell_type": "code",
   "execution_count": 12,
   "id": "7afe4691-f039-4119-b84d-5855ba5d76d0",
   "metadata": {},
   "outputs": [],
   "source": [
    "from tensorflow.keras.preprocessing.text import Tokenizer\n",
    "from tensorflow.keras.preprocessing.sequence import pad_sequences\n",
    "import requests\n",
    "import csv\n",
    "# from selenium import webdriver\n",
    "# from selenium.webdriver.common.by import By "
   ]
  },
  {
   "cell_type": "markdown",
   "id": "02158f3e-4f97-45ee-9355-dfc2630a496d",
   "metadata": {},
   "source": [
    "### Data extraction "
   ]
  },
  {
   "cell_type": "code",
   "execution_count": 8,
   "id": "458716cf-ae3e-45db-8ae0-5e334d85cf83",
   "metadata": {},
   "outputs": [],
   "source": [
    "url = 'https://storage.googleapis.com/learning-datasets/sarcasm.json'\n",
    "response = requests.get(url)\n",
    "\n",
    "if response.status_code == 200:\n",
    "    data = response.json()\n",
    "    # print(data)\n",
    "else:\n",
    "      print(f\"Failed to retrieve file: {response.status_code}\")"
   ]
  },
  {
   "cell_type": "code",
   "execution_count": 10,
   "id": "a895b599-3f35-4884-9d5b-b3d94702a536",
   "metadata": {},
   "outputs": [
    {
     "data": {
      "text/plain": [
       "{'article_link': 'https://www.huffingtonpost.com/entry/versace-black-code_us_5861fbefe4b0de3a08f600d5',\n",
       " 'headline': \"former versace store clerk sues over secret 'black code' for minority shoppers\",\n",
       " 'is_sarcastic': 0}"
      ]
     },
     "execution_count": 10,
     "metadata": {},
     "output_type": "execute_result"
    }
   ],
   "source": [
    "data[0]"
   ]
  },
  {
   "cell_type": "code",
   "execution_count": 13,
   "id": "b7bf28f6-bdad-41cd-aa1c-f5698f331baf",
   "metadata": {},
   "outputs": [],
   "source": [
    "newsdata = []\n",
    "for item in data:\n",
    "    newsdata.append({'headline':item['headline'],'label':item['is_sarcastic']})\n",
    "\n",
    "\n",
    "with open(\"data.csv\", mode = \"w\" , newline=\"\", encoding = \"utf-8\") as file:\n",
    "    filenames = ['headline','label']\n",
    "    \n",
    "    writer = csv.DictWriter(file,fieldnames = filenames)\n",
    "    writer.writeheader()\n",
    "\n",
    "    writer.writerows(newsdata)"
   ]
  },
  {
   "cell_type": "code",
   "execution_count": null,
   "id": "d4a371a7-2d3d-4657-8264-4083013464e8",
   "metadata": {},
   "outputs": [],
   "source": []
  }
 ],
 "metadata": {
  "kernelspec": {
   "display_name": "Python 3",
   "language": "python",
   "name": "python3"
  },
  "language_info": {
   "codemirror_mode": {
    "name": "ipython",
    "version": 3
   },
   "file_extension": ".py",
   "mimetype": "text/x-python",
   "name": "python",
   "nbconvert_exporter": "python",
   "pygments_lexer": "ipython3",
   "version": "3.12.4"
  }
 },
 "nbformat": 4,
 "nbformat_minor": 5
}
